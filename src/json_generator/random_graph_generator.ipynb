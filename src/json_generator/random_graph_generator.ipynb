{
 "cells": [
  {
   "cell_type": "code",
   "execution_count": 2,
   "metadata": {},
   "outputs": [],
   "source": [
    "import json\n",
    "import random"
   ]
  },
  {
   "cell_type": "code",
   "execution_count": 45,
   "metadata": {
    "scrolled": true
   },
   "outputs": [
    {
     "data": {
      "text/plain": [
       "['История',\n",
       " 'Дифференциальное исчисление',\n",
       " 'Дискретная математика',\n",
       " 'Алгебраические структуры',\n",
       " 'Основы программирования',\n",
       " 'Философия',\n",
       " 'Организация вычислительных систем',\n",
       " 'Интегральное исчисление',\n",
       " 'Иностранный язык',\n",
       " 'Вычислительная геометрия',\n",
       " 'Функциональные последовательности и ряды',\n",
       " 'Дифференциальные и разностные уравнени']"
      ]
     },
     "execution_count": 45,
     "metadata": {},
     "output_type": "execute_result"
    }
   ],
   "source": [
    "with open('subjects.txt') as subj_file:\n",
    "    subject_names = subj_file.readlines()\n",
    "subject_names = [subj[:-1] for subj in subject_names]\n",
    "subject_names"
   ]
  },
  {
   "cell_type": "code",
   "execution_count": 46,
   "metadata": {},
   "outputs": [
    {
     "data": {
      "text/plain": [
       "[{'id': 'История', 'group': 1},\n",
       " {'id': 'Дифференциальное исчисление', 'group': 2},\n",
       " {'id': 'Дискретная математика', 'group': 0},\n",
       " {'id': 'Алгебраические структуры', 'group': 2},\n",
       " {'id': 'Основы программирования', 'group': 0},\n",
       " {'id': 'Философия', 'group': 1},\n",
       " {'id': 'Организация вычислительных систем', 'group': 1},\n",
       " {'id': 'Интегральное исчисление', 'group': 0},\n",
       " {'id': 'Иностранный язык', 'group': 1},\n",
       " {'id': 'Вычислительная геометрия', 'group': 2},\n",
       " {'id': 'Функциональные последовательности и ряды', 'group': 2},\n",
       " {'id': 'Дифференциальные и разностные уравнени', 'group': 2}]"
      ]
     },
     "execution_count": 46,
     "metadata": {},
     "output_type": "execute_result"
    }
   ],
   "source": [
    "subjects = []\n",
    "for i in subject_names:\n",
    "    subjects.append({\n",
    "        'id': i,\n",
    "        'group': random.randint(0, 2)\n",
    "    });\n",
    "subjects"
   ]
  },
  {
   "cell_type": "code",
   "execution_count": 47,
   "metadata": {},
   "outputs": [],
   "source": [
    "links = []\n",
    "linked_groups = set()\n",
    "for source in subjects:\n",
    "    for target in subjects:\n",
    "        if source != target and (source['group'] == target['group'] or source['group'] not in linked_groups):\n",
    "            randValue = random.randint(1, 10)\n",
    "            links.append({\n",
    "                'source': source['id'],\n",
    "                'target': target['id'],\n",
    "                'value': randValue\n",
    "            })\n",
    "            linked_groups.add(source['group'])"
   ]
  },
  {
   "cell_type": "code",
   "execution_count": 48,
   "metadata": {},
   "outputs": [],
   "source": [
    "nodes = []\n",
    "for node in subjects:\n",
    "    nodes.append({\n",
    "        'id': node['id'],\n",
    "        'group': node['group']\n",
    "    });"
   ]
  },
  {
   "cell_type": "code",
   "execution_count": 49,
   "metadata": {},
   "outputs": [],
   "source": [
    "result = {\n",
    "    'nodes': nodes,\n",
    "    'links': links\n",
    "}"
   ]
  },
  {
   "cell_type": "code",
   "execution_count": 50,
   "metadata": {},
   "outputs": [],
   "source": [
    "with open('data.json', 'w') as outfile:\n",
    "    json.dump(result, outfile, ensure_ascii=False)"
   ]
  },
  {
   "cell_type": "code",
   "execution_count": null,
   "metadata": {},
   "outputs": [],
   "source": []
  },
  {
   "cell_type": "code",
   "execution_count": null,
   "metadata": {},
   "outputs": [],
   "source": []
  }
 ],
 "metadata": {
  "kernelspec": {
   "display_name": "Python 3",
   "language": "python",
   "name": "python3"
  },
  "language_info": {
   "codemirror_mode": {
    "name": "ipython",
    "version": 3
   },
   "file_extension": ".py",
   "mimetype": "text/x-python",
   "name": "python",
   "nbconvert_exporter": "python",
   "pygments_lexer": "ipython3",
   "version": "3.7.2"
  }
 },
 "nbformat": 4,
 "nbformat_minor": 2
}
