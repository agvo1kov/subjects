{
 "cells": [
  {
   "cell_type": "code",
   "execution_count": 3,
   "metadata": {},
   "outputs": [],
   "source": [
    "import json\n",
    "import random"
   ]
  },
  {
   "cell_type": "code",
   "execution_count": 46,
   "metadata": {
    "scrolled": true
   },
   "outputs": [
    {
     "data": {
      "text/plain": [
       "['Прог. в сетях',\n",
       " 'Осн. обр. б. данных',\n",
       " 'Методы разр. трансляторов',\n",
       " 'Инф. безопасность',\n",
       " 'Элект. курсы по физ. культуре',\n",
       " 'Имит. моделирование',\n",
       " 'Осн. кибернетики',\n",
       " 'Прик. логик']"
      ]
     },
     "execution_count": 46,
     "metadata": {},
     "output_type": "execute_result"
    }
   ],
   "source": [
    "with open('subjects.txt') as subj_file:\n",
    "    subjects = subj_file.readlines()\n",
    "subjects = [subj[:-1] for subj in subjects]\n",
    "subjects"
   ]
  },
  {
   "cell_type": "code",
   "execution_count": 2,
   "metadata": {},
   "outputs": [],
   "source": [
    "subjects = []\n",
    "for i in range(1, 21):\n",
    "    subjects.append({\n",
    "        'id': 'id' + str(i,\n",
    "        'subject': 'Предмет ' + str(i)\n",
    "    });"
   ]
  },
  {
   "cell_type": "code",
   "execution_count": 48,
   "metadata": {},
   "outputs": [],
   "source": [
    "result = [] # result have to contain a json describing influence between each subjects pair\n",
    "\n",
    "for subjFrom in subjects:\n",
    "    for subjTo in subjects:\n",
    "        if subjFrom != subjTo:\n",
    "            result.append({\n",
    "                'source': subjFrom,\n",
    "                'target': subjTo,\n",
    "                'weight': random.randint(0, 10)\n",
    "            })\n",
    "            result.append({\n",
    "                'source': subjTo,\n",
    "                'target': subjFrom,\n",
    "                'weight': random.randint(0, 10)\n",
    "            })"
   ]
  },
  {
   "cell_type": "code",
   "execution_count": 49,
   "metadata": {},
   "outputs": [],
   "source": [
    "with open('graph.json', 'w') as outfile:\n",
    "    json.dump(result, outfile, ensure_ascii=False)"
   ]
  },
  {
   "cell_type": "code",
   "execution_count": null,
   "metadata": {},
   "outputs": [],
   "source": []
  },
  {
   "cell_type": "code",
   "execution_count": null,
   "metadata": {},
   "outputs": [],
   "source": []
  }
 ],
 "metadata": {
  "kernelspec": {
   "display_name": "Python 3",
   "language": "python",
   "name": "python3"
  },
  "language_info": {
   "codemirror_mode": {
    "name": "ipython",
    "version": 3
   },
   "file_extension": ".py",
   "mimetype": "text/x-python",
   "name": "python",
   "nbconvert_exporter": "python",
   "pygments_lexer": "ipython3",
   "version": "3.7.2"
  }
 },
 "nbformat": 4,
 "nbformat_minor": 2
}
